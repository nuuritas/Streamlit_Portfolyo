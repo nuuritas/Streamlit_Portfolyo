{
 "cells": [
  {
   "cell_type": "code",
   "execution_count": 3,
   "metadata": {},
   "outputs": [],
   "source": [
    "import pandas as pd\n",
    "from datetime import datetime, timedelta\n",
    "\n",
    "# st.set_page_config(layout=\"wide\")\n",
    "\n",
    "gunluk_ozet = pd.read_parquet(\"../data/parquet/gunluk_ozet.parquet\")\n",
    "haftalık_ozet = pd.read_parquet(\"../data/parquet/haftalık_ozet.parquet\")\n",
    "port_all = pd.read_parquet(\"../data/parquet/port_all.parquet\")"
   ]
  }
 ],
 "metadata": {
  "kernelspec": {
   "display_name": "py3115",
   "language": "python",
   "name": "python3"
  },
  "language_info": {
   "codemirror_mode": {
    "name": "ipython",
    "version": 3
   },
   "file_extension": ".py",
   "mimetype": "text/x-python",
   "name": "python",
   "nbconvert_exporter": "python",
   "pygments_lexer": "ipython3",
   "version": "3.11.5"
  },
  "orig_nbformat": 4
 },
 "nbformat": 4,
 "nbformat_minor": 2
}
