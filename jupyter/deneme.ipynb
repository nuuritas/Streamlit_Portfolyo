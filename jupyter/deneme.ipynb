{
 "cells": [
  {
   "cell_type": "code",
   "execution_count": 13,
   "metadata": {},
   "outputs": [],
   "source": [
    "from isyatirimhisse import fetch_data, fetch_financials, visualize_data"
   ]
  },
  {
   "cell_type": "code",
   "execution_count": 24,
   "metadata": {},
   "outputs": [
    {
     "name": "stdout",
     "output_type": "stream",
     "text": [
      "         Date   OFSYM\n",
      "0  2023-08-23   48.10\n",
      "1  2023-08-24   52.90\n",
      "2  2023-08-25   58.15\n",
      "3  2023-08-28   63.95\n",
      "4  2023-08-29   70.30\n",
      "5  2023-08-31   77.30\n",
      "6  2023-09-01   85.00\n",
      "7  2023-09-04   93.50\n",
      "8  2023-09-05  102.80\n",
      "9  2023-09-06  113.00\n",
      "10 2023-09-07  101.70\n",
      "11 2023-09-08  102.00\n",
      "12 2023-09-11   91.80\n",
      "13 2023-09-12   86.60\n",
      "14 2023-09-13   77.95\n",
      "15 2023-09-14   70.20\n",
      "16 2023-09-15   77.10\n",
      "17 2023-09-18   69.40\n",
      "18 2023-09-19   68.55\n",
      "19 2023-09-20   65.50\n",
      "20 2023-09-21   67.90\n",
      "21 2023-09-22   69.30\n",
      "22 2023-09-25   72.80\n",
      "23 2023-09-26   69.95\n",
      "24 2023-09-27   70.55\n",
      "25 2023-09-28   70.35\n",
      "26 2023-09-29   69.50\n",
      "27 2023-10-02   74.05\n",
      "28 2023-10-03   78.85\n",
      "29 2023-10-04   81.25\n"
     ]
    }
   ],
   "source": [
    "import asyncio\n",
    "\n",
    "async def main():\n",
    "    veriler = await fetch_data(symbol='OFSYM', start_date='01-01-2023')\n",
    "    return veriler\n",
    "\n",
    "async def run():\n",
    "    sonuc = await main()\n",
    "    print(sonuc)\n",
    "\n",
    "    # Diğer işlemler burada yapılabilir.\n",
    "\n",
    "async def main_wrapper():\n",
    "    gorev = asyncio.create_task(run())\n",
    "    await gorev\n",
    "\n",
    "await main_wrapper()"
   ]
  }
 ],
 "metadata": {
  "kernelspec": {
   "display_name": "py3115",
   "language": "python",
   "name": "python3"
  },
  "language_info": {
   "codemirror_mode": {
    "name": "ipython",
    "version": 3
   },
   "file_extension": ".py",
   "mimetype": "text/x-python",
   "name": "python",
   "nbconvert_exporter": "python",
   "pygments_lexer": "ipython3",
   "version": "3.11.5"
  },
  "orig_nbformat": 4
 },
 "nbformat": 4,
 "nbformat_minor": 2
}
